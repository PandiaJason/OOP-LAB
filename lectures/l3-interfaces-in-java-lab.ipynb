{
 "cells": [
  {
   "cell_type": "markdown",
   "metadata": {},
   "source": [
    "![College Logo](../misc/college-logo-1024x245.png)"
   ]
  },
  {
   "cell_type": "markdown",
   "metadata": {},
   "source": [
    "<div class=\"alert alert-block alert-info\">\n",
    "    \n",
    "# iNTERACTIVE PLAYGROUND  NOTES ON JAVA LAB\n",
    "\n",
    "**By Jason Pandian**<br> *Assistant Professor, Department of Information Technology*\n",
    "\n",
    "</div>"
   ]
  },
  {
   "cell_type": "markdown",
   "metadata": {},
   "source": [
    "# **EXP3. Develop Java applications using interfaces and packages**\n",
    "\n",
    "## **AIM:**\n",
    "Create a Java application using interfaces and packages to model different types of bank accounts.\n",
    "\n",
    "## **ALGORITHM**\n",
    "- Step-1.\tDefine the Interface: Create an interface Account with methods related to account operations.\n",
    "- Step-2.\tImplement the Interface: Create classes SavingsAccount and CurrentAccount that implement the Account interface.\n",
    "- Step-3.\tOrganize using Packages: Create packages to organize the classes and interfaces.\n",
    "- Step-4.\tCreate a Main Class: Use a main class to demonstrate the functionality of the accounts."
   ]
  },
  {
   "cell_type": "markdown",
   "metadata": {},
   "source": [
    "## **PROGRAM**\n",
    "\n",
    "### **Account.java**"
   ]
  },
  {
   "cell_type": "code",
   "execution_count": 1,
   "metadata": {},
   "outputs": [
    {
     "name": "stdout",
     "output_type": "stream",
     "text": [
      "Overwriting BankApp/src/com/bank/accounts/Account.java\n"
     ]
    }
   ],
   "source": [
    "%%writefile BankApp/src/com/bank/accounts/Account.java\n",
    "\n",
    "package com.bank.accounts;\n",
    "\n",
    "public interface Account {\n",
    "    void deposit(double amount);\n",
    "    void withdraw(double amount);\n",
    "    double getBalance();\n",
    "}"
   ]
  },
  {
   "cell_type": "markdown",
   "metadata": {},
   "source": [
    "### **SavingsAccount.java**"
   ]
  },
  {
   "cell_type": "code",
   "execution_count": 2,
   "metadata": {},
   "outputs": [
    {
     "name": "stdout",
     "output_type": "stream",
     "text": [
      "Writing src/com/bank/accounts/SavingsAccount.java\n"
     ]
    }
   ],
   "source": [
    "%%writefile BankApp/src/com/bank/accounts/SavingsAccount.java\n",
    "package com.bank.accounts;\n",
    "\n",
    "public class SavingsAccount implements Account {\n",
    "    private double balance;\n",
    "    private double interestRate;\n",
    "\n",
    "    public SavingsAccount(double initialBalance, double interestRate) {\n",
    "        this.balance = initialBalance;\n",
    "        this.interestRate = interestRate;\n",
    "    }\n",
    "\n",
    "    @Override\n",
    "    public void deposit(double amount) {\n",
    "        balance += amount;\n",
    "    }\n",
    "\n",
    "    @Override\n",
    "    public void withdraw(double amount) {\n",
    "        if (balance >= amount) {\n",
    "            balance -= amount;\n",
    "        } else {\n",
    "            System.out.println(\"Insufficient balance!\");\n",
    "        }\n",
    "    }\n",
    "\n",
    "    @Override\n",
    "    public double getBalance() {\n",
    "        return balance;\n",
    "    }\n",
    "\n",
    "    public void applyInterest() {\n",
    "        balance += (balance * interestRate / 100);\n",
    "    }\n",
    "}\n"
   ]
  },
  {
   "cell_type": "markdown",
   "metadata": {},
   "source": [
    "### **CurrentAccount.java**"
   ]
  },
  {
   "cell_type": "code",
   "execution_count": 3,
   "metadata": {},
   "outputs": [
    {
     "name": "stdout",
     "output_type": "stream",
     "text": [
      "Writing src/com/bank/accounts/CurrentAccount.java\n"
     ]
    }
   ],
   "source": [
    "%%writefile BankApp/src/com/bank/accounts/CurrentAccount.java\n",
    "package com.bank.accounts;\n",
    "\n",
    "public class CurrentAccount implements Account {\n",
    "    private double balance;\n",
    "    private double overdraftLimit;\n",
    "\n",
    "    public CurrentAccount(double initialBalance, double overdraftLimit) {\n",
    "        this.balance = initialBalance;\n",
    "        this.overdraftLimit = overdraftLimit;\n",
    "    }\n",
    "\n",
    "    @Override\n",
    "    public void deposit(double amount) {\n",
    "        balance += amount;\n",
    "    }\n",
    "\n",
    "    @Override\n",
    "    public void withdraw(double amount) {\n",
    "        if (balance + overdraftLimit >= amount) {\n",
    "            balance -= amount;\n",
    "        } else {\n",
    "            System.out.println(\"Overdraft limit exceeded!\");\n",
    "        }\n",
    "    }\n",
    "\n",
    "    @Override\n",
    "    public double getBalance() {\n",
    "        return balance;\n",
    "    }\n",
    "}\n"
   ]
  },
  {
   "cell_type": "markdown",
   "metadata": {},
   "source": [
    "### **Main.java**"
   ]
  },
  {
   "cell_type": "code",
   "execution_count": 4,
   "metadata": {},
   "outputs": [
    {
     "name": "stdout",
     "output_type": "stream",
     "text": [
      "Writing src/com/bank/Main.java\n"
     ]
    }
   ],
   "source": [
    "%%writefile BankApp/src/com/bank/Main.java\n",
    "package com.bank;\n",
    "\n",
    "import com.bank.accounts.SavingsAccount;\n",
    "import com.bank.accounts.CurrentAccount;\n",
    "import java.util.Scanner;\n",
    "\n",
    "public class Main {\n",
    "    public static void main(String[] args) {\n",
    "        Scanner scanner = new Scanner(System.in);\n",
    "\n",
    "        // Get input for Savings Account\n",
    "        System.out.println(\"Enter initial balance for Savings Account: \");\n",
    "        double savingsInitialBalance = scanner.nextDouble();\n",
    "        System.out.println(\"Enter interest rate for Savings Account: \");\n",
    "        double savingsInterestRate = scanner.nextDouble();\n",
    "        SavingsAccount savings = new SavingsAccount(savingsInitialBalance, savingsInterestRate);\n",
    "\n",
    "        // Get input for Current Account\n",
    "        System.out.println(\"Enter initial balance for Current Account: \");\n",
    "        double currentInitialBalance = scanner.nextDouble();\n",
    "        System.out.println(\"Enter overdraft limit for Current Account: \");\n",
    "        double overdraftLimit = scanner.nextDouble();\n",
    "        CurrentAccount current = new CurrentAccount(currentInitialBalance, overdraftLimit);\n",
    "\n",
    "        boolean continueOperations = true;\n",
    "\n",
    "        while (continueOperations) {\n",
    "            System.out.println(\"\\nSelect account to operate on:\");\n",
    "            System.out.println(\"1. Savings Account\");\n",
    "            System.out.println(\"2. Current Account\");\n",
    "            System.out.println(\"3. Exit\");\n",
    "            int choice = scanner.nextInt();\n",
    "\n",
    "            switch (choice) {\n",
    "                case 1:\n",
    "                    handleSavingsAccountOperations(scanner, savings);\n",
    "                    break;\n",
    "                case 2:\n",
    "                    handleCurrentAccountOperations(scanner, current);\n",
    "                    break;\n",
    "                case 3:\n",
    "                    continueOperations = false;\n",
    "                    break;\n",
    "                default:\n",
    "                    System.out.println(\"Invalid choice. Please try again.\");\n",
    "            }\n",
    "        }\n",
    "\n",
    "        scanner.close();\n",
    "    }\n",
    "\n",
    "    private static void handleSavingsAccountOperations(Scanner scanner, SavingsAccount savings) {\n",
    "        System.out.println(\"\\nSavings Account Balance: \" + savings.getBalance());\n",
    "        System.out.println(\"1. Deposit\");\n",
    "        System.out.println(\"2. Withdraw\");\n",
    "        System.out.println(\"3. Apply Interest\");\n",
    "        System.out.println(\"4. Back to Main Menu\");\n",
    "        int choice = scanner.nextInt();\n",
    "\n",
    "        switch (choice) {\n",
    "            case 1:\n",
    "                System.out.println(\"Enter amount to deposit: \");\n",
    "                double deposit = scanner.nextDouble();\n",
    "                savings.deposit(deposit);\n",
    "                System.out.println(\"New Balance: \" + savings.getBalance());\n",
    "                break;\n",
    "            case 2:\n",
    "                System.out.println(\"Enter amount to withdraw: \");\n",
    "                double withdraw = scanner.nextDouble();\n",
    "                savings.withdraw(withdraw);\n",
    "                System.out.println(\"New Balance: \" + savings.getBalance());\n",
    "                break;\n",
    "            case 3:\n",
    "                savings.applyInterest();\n",
    "                System.out.println(\"Balance after interest applied: \" + savings.getBalance());\n",
    "                break;\n",
    "            case 4:\n",
    "                break;\n",
    "            default:\n",
    "                System.out.println(\"Invalid choice. Please try again.\");\n",
    "        }\n",
    "    }\n",
    "\n",
    "    private static void handleCurrentAccountOperations(Scanner scanner, CurrentAccount current) {\n",
    "        System.out.println(\"\\nCurrent Account Balance: \" + current.getBalance());\n",
    "        System.out.println(\"1. Deposit\");\n",
    "        System.out.println(\"2. Withdraw\");\n",
    "        System.out.println(\"3. Back to Main Menu\");\n",
    "        int choice = scanner.nextInt();\n",
    "\n",
    "        switch (choice) {\n",
    "            case 1:\n",
    "                System.out.println(\"Enter amount to deposit: \");\n",
    "                double deposit = scanner.nextDouble();\n",
    "                current.deposit(deposit);\n",
    "                System.out.println(\"New Balance: \" + current.getBalance());\n",
    "                break;\n",
    "            case 2:\n",
    "                System.out.println(\"Enter amount to withdraw: \");\n",
    "                double withdraw = scanner.nextDouble();\n",
    "                current.withdraw(withdraw);\n",
    "                System.out.println(\"New Balance: \" + current.getBalance());\n",
    "                break;\n",
    "            case 3:\n",
    "                break;\n",
    "            default:\n",
    "                System.out.println(\"Invalid choice. Please try again.\");\n",
    "        }\n",
    "    }\n",
    "}\n"
   ]
  },
  {
   "cell_type": "markdown",
   "metadata": {},
   "source": [
    "### **Expected Output**\n",
    "# ****"
   ]
  },
  {
   "cell_type": "markdown",
   "metadata": {},
   "source": [
    "#### **Logical Organization**"
   ]
  },
  {
   "cell_type": "code",
   "execution_count": 5,
   "metadata": {},
   "outputs": [
    {
     "name": "stdout",
     "output_type": "stream",
     "text": [
      "\u001b[01;34mBankApp\u001b[0m\n",
      "├── \u001b[01;34mbin\u001b[0m\n",
      "└── \u001b[01;34msrc\u001b[0m\n",
      "    └── \u001b[01;34mcom\u001b[0m\n",
      "        └── \u001b[01;34mbank\u001b[0m\n",
      "            ├── \u001b[01;34maccounts\u001b[0m\n",
      "            │   ├── \u001b[00mAccount.java\u001b[0m\n",
      "            │   ├── \u001b[00mCurrentAccount.java\u001b[0m\n",
      "            │   └── \u001b[00mSavingsAccount.java\u001b[0m\n",
      "            └── \u001b[00mMain.java\u001b[0m\n",
      "\n",
      "6 directories, 4 files\n"
     ]
    }
   ],
   "source": [
    "!tree BankApp"
   ]
  },
  {
   "cell_type": "markdown",
   "metadata": {},
   "source": [
    "### **Regular Java Complier(Linux)** \n",
    "```sh\n",
    "nit@linux$: cd src\n",
    "nit@linux:~..../BankApp$: javac -d bin BankApp/src/com/bank/accounts/Account.java BankApp/src/com/bank/accounts/SavingsAccount.java BankApp/src/com/bank/accounts/CurrentAccount.java BankApp/src/com/bank/Main.java\n",
    "nit@linux:~..../BankApp$: java -cp bin com.bank.Main\n",
    "```"
   ]
  },
  {
   "cell_type": "markdown",
   "metadata": {},
   "source": [
    "### **JUPYTER NOTEBOOK**"
   ]
  },
  {
   "cell_type": "code",
   "execution_count": 3,
   "metadata": {},
   "outputs": [
    {
     "name": "stdout",
     "output_type": "stream",
     "text": [
      "Enter initial balance for Savings Account: \n",
      "^C\n"
     ]
    }
   ],
   "source": [
    "!javac -d bin BankApp/src/com/bank/accounts/Account.java BankApp/src/com/bank/accounts/SavingsAccount.java BankApp/src/com/bank/accounts/CurrentAccount.java BankApp/src/com/bank/Main.java\n",
    "!java -cp bin com.bank.Main\n"
   ]
  },
  {
   "cell_type": "markdown",
   "metadata": {},
   "source": [
    "# ***🎉 Congratulations on Completing Your Java ☕ Interface Lab!***\n"
   ]
  }
 ],
 "metadata": {
  "kaggle": {
   "accelerator": "none",
   "dataSources": [],
   "dockerImageVersionId": 30664,
   "isGpuEnabled": false,
   "isInternetEnabled": false,
   "language": "python",
   "sourceType": "notebook"
  },
  "kernelspec": {
   "display_name": "Python 3 (ipykernel)",
   "language": "python",
   "name": "python3"
  },
  "language_info": {
   "codemirror_mode": {
    "name": "ipython",
    "version": 3
   },
   "file_extension": ".py",
   "mimetype": "text/x-python",
   "name": "python",
   "nbconvert_exporter": "python",
   "pygments_lexer": "ipython3",
   "version": "3.11.2"
  }
 },
 "nbformat": 4,
 "nbformat_minor": 4
}
