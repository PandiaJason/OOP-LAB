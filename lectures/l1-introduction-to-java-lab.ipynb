{
 "cells": [
  {
   "cell_type": "markdown",
   "metadata": {},
   "source": [
    "![College Logo](../misc/college-logo-1024x245.png)"
   ]
  },
  {
   "cell_type": "markdown",
   "metadata": {},
   "source": [
    "<div class=\"alert alert-block alert-info\">\n",
    "    \n",
    "# iNTERACTIVE PLAYGROUND  NOTES ON JAVA LAB\n",
    "\n",
    "**By Jason Pandian**<br> *Assistant Professor, Department of Information Technology*\n",
    "\n",
    "</div>"
   ]
  },
  {
   "cell_type": "markdown",
   "metadata": {},
   "source": [
    "# Installation and Prerequisites"
   ]
  },
  {
   "cell_type": "markdown",
   "metadata": {},
   "source": [
    "To set up Java on Linux(Debian 12), you'll need to follow several steps to ensure you have the necessary prerequisites. Here's a step-by-step guide to help you get started:\n",
    "\n",
    "**Prerequisites for Java on Linux**\n",
    "\n",
    "1. **Update Package List**:\n",
    "    - First, make sure your package list is up-to-date.\n",
    "\n",
    "    ```sh\n",
    "    sudo apt update\n",
    "    ```\n",
    "\n",
    "2. **Install Java Development Kit (JDK)**:\n",
    "    - You need to install the JDK. Debian repositories usually have OpenJDK.\n",
    "\n",
    "    ```sh\n",
    "    sudo apt install default-jdk\n",
    "    ```\n",
    "\n",
    "    - Verify the installation.\n",
    "\n",
    "    ```sh\n",
    "    java -version\n",
    "    ```\n",
    "\n",
    "    - You should see output similar to:\n",
    "\n",
    "    ```\n",
    "    openjdk version \"11.0.16\" 2022-07-19\n",
    "    OpenJDK Runtime Environment (build 11.0.16+8-post-Debian-1deb10u1)\n",
    "    OpenJDK 64-Bit Server VM (build 11.0.16+8-post-Debian-1deb10u1, mixed mode, sharing)\n",
    "    ```\n",
    "\n",
    "3. **Set JAVA_HOME Environment Variable**:\n",
    "    - Identify the installation path of Java.\n",
    "\n",
    "    ```sh\n",
    "    sudo update-alternatives --config java\n",
    "    ```\n",
    "\n",
    "    - The path will look something like `/usr/lib/jvm/java-11-openjdk-amd64`.\n",
    "\n",
    "    - Set the `JAVA_HOME` environment variable.\n",
    "\n",
    "    ```sh\n",
    "    echo 'export JAVA_HOME=/usr/lib/jvm/java-11-openjdk-amd64' | sudo tee -a /etc/profile\n",
    "    source /etc/profile\n",
    "    ```\n",
    "\n",
    "    - Verify `JAVA_HOME`.\n",
    "\n",
    "    ```sh\n",
    "    echo $JAVA_HOME\n",
    "    ```\n",
    "\n",
    "4. **Install Build Tools**:\n",
    "    - Install essential build tools like Maven and Gradle if your projects require them.\n",
    "\n",
    "    ```sh\n",
    "    sudo apt install maven\n",
    "    sudo apt install gradle\n",
    "    ```\n",
    "\n",
    "5. **Install Integrated Development Environment (IDE)**:\n",
    "    - While not strictly necessary, using an IDE can greatly enhance productivity. Popular Java IDEs include:\n",
    "\n",
    "        - **IntelliJ IDEA**: \n",
    "\n",
    "        ```sh\n",
    "        sudo snap install intellij-idea-community --classic\n",
    "        ```\n",
    "\n",
    "        - **Eclipse**:\n",
    "\n",
    "        ```sh\n",
    "        sudo snap install --classic eclipse\n",
    "        ```\n",
    "\n",
    "        - **NetBeans**:\n",
    "\n",
    "        ```sh\n",
    "        sudo apt install netbeans\n",
    "        ```\n",
    "\n",
    "6. **Verify the Installation**:\n",
    "    - Create a simple Java program to ensure everything is set up correctly.\n",
    "\n",
    "    ```java\n",
    "    // HelloWorld.java\n",
    "    public class HelloWorld {\n",
    "        public static void main(String[] args) {\n",
    "            System.out.println(\"Hello, World!\");\n",
    "        }\n",
    "    }\n",
    "    ```\n",
    "\n",
    "    - Compile and run the program.\n",
    "\n",
    "    ```sh\n",
    "    javac HelloWorld.java\n",
    "    java HelloWorld\n",
    "    ```\n",
    "\n",
    "    - You should see the output:\n",
    "\n",
    "    ```\n",
    "    Hello, World!\n",
    "    ```\n",
    "\n",
    "By following these steps, you should have a complete Java development environment set up on Debian 12."
   ]
  },
  {
   "cell_type": "markdown",
   "metadata": {},
   "source": [
    "# EXP1A. Develop simple Java programs using control statements and arrays\n",
    "\n",
    "## AIM:\n",
    "To Develop a Java program to find the second largest number in an array.\n",
    "Set Up the Environment\n",
    "\n",
    "## ALGORITHM:\n",
    "- Step-1.\tDefine the array of integers.\n",
    "- Step-2.\tInitialize variables to track the largest and second largest numbers.\n",
    "- Step-3.\tIterate through the array to update these variables.\n",
    "- Step-4.\tPrint the second largest number.\n",
    "- Step-5.\tCompile and Run the Program:\n"
   ]
  },
  {
   "cell_type": "markdown",
   "metadata": {},
   "source": [
    "## PROGRAM"
   ]
  },
  {
   "cell_type": "code",
   "execution_count": 43,
   "metadata": {},
   "outputs": [
    {
     "name": "stdout",
     "output_type": "stream",
     "text": [
      "Overwriting SecondLargestNumber.java\n"
     ]
    }
   ],
   "source": [
    "%%writefile SecondLargestNumber.java\n",
    "\n",
    "import java.util.Scanner;\n",
    "\n",
    "public class SecondLargestNumber {\n",
    "    \n",
    "    public static void main(String[] args) {\n",
    "        Scanner scanner = new Scanner(System.in);\n",
    "        \n",
    "        System.out.println(\"Enter the number of elements in the array:\");\n",
    "        int n = scanner.nextInt();\n",
    "        int[] array = new int[n];\n",
    "        System.out.println(\"Enter the elements of the array:\");\n",
    "        for (int i = 0; i < n; i++) {\n",
    "            array[i] = scanner.nextInt();\n",
    "        }\n",
    "        int secondLargest = findSecondLargest(array);\n",
    "        System.out.println(\"The second largest number is: \" + secondLargest);\n",
    "        \n",
    "        scanner.close();\n",
    "    }\n",
    "    \n",
    "    public static int findSecondLargest(int[] array) {\n",
    "        if (array.length < 2) {\n",
    "            throw new IllegalArgumentException(\"Array must have at least two elements.\");\n",
    "        }\n",
    "        int firstLargest = 0;\n",
    "        int secondLargest = 0;\n",
    "        for (int num : array) {\n",
    "            if (num > firstLargest) {\n",
    "                // This finds the first largest and second largest\n",
    "                secondLargest = firstLargest;\n",
    "                firstLargest = num;\n",
    "                System.out.println(\"if\");\n",
    "            } else if (num > secondLargest && num != firstLargest) {\n",
    "                // This finds the secondLargest in some cases\n",
    "                secondLargest = num;\n",
    "                System.out.println(\"else\");\n",
    "\n",
    "            }\n",
    "        }\n",
    "        return secondLargest;\n",
    "    }\n",
    "}\n",
    "\n"
   ]
  },
  {
   "cell_type": "markdown",
   "metadata": {},
   "source": [
    "### Regular Java Complier(Linux) \n",
    "```sh\n",
    "nit@linux$: javac SecondLargestNumber.java\n",
    "nit@linux$: java SecondLargestNumber\n",
    "```"
   ]
  },
  {
   "cell_type": "markdown",
   "metadata": {},
   "source": [
    "### JUPYTER NOTEBOOK"
   ]
  },
  {
   "cell_type": "code",
   "execution_count": 40,
   "metadata": {},
   "outputs": [],
   "source": [
    "!javac SecondLargestNumber.java"
   ]
  },
  {
   "cell_type": "markdown",
   "metadata": {},
   "source": [
    "## Possible Inputs\n",
    "**Input: [10, 20, 30, 40, 50]**\n",
    "- Expected Output: 40\n",
    "\n",
    "**Input: [50, 40, 30, 20, 10]**\n",
    "- Expected Output: 40\n",
    "\n",
    "**Input: [3, 3, 3, 3, 3]**\n",
    "- Expected Output: 0 (or appropriate value if handled for identical elements)\n",
    "\n",
    "**Input: [10, 20]**\n",
    "- Expected Output: 10\n",
    "\n",
    "**Input: [5, 5, 5, 5, 10]**\n",
    "- Expected Output: 5"
   ]
  },
  {
   "cell_type": "markdown",
   "metadata": {},
   "source": [
    "# EXP1B. Checks if a given number is prime.\n",
    "\n",
    "## Aim\n",
    "To develop a simple Java program that checks if a given number is prime.\n",
    "\n",
    "## Algorithm\n",
    "- Create a new Java project and class.\n",
    "- Define a method to check if a number is prime.\n",
    "- Use a loop to check divisibility.\n",
    "- Return the result.\n",
    "- Test the method with various input numbers.\n",
    "- Compile the Java program.\n",
    "- Run the program and verify the output."
   ]
  },
  {
   "cell_type": "code",
   "execution_count": 41,
   "metadata": {},
   "outputs": [
    {
     "name": "stdout",
     "output_type": "stream",
     "text": [
      "Overwriting CheckPrime.java\n"
     ]
    }
   ],
   "source": [
    "%%writefile CheckPrime.java\n",
    "\n",
    "import java.util.Scanner;\n",
    "\n",
    "public class CheckPrime {\n",
    "\n",
    "    public static void main(String[] args) {\n",
    "        // Create a Scanner object to read input\n",
    "        Scanner scanner = new Scanner(System.in);\n",
    "        \n",
    "        // Prompt user to enter a number to check if it is prime\n",
    "        System.out.println(\"Enter a number to check if it is prime:\");\n",
    "        int number = scanner.nextInt(); // Read the number\n",
    "        \n",
    "        // Call the method to check if the number is prime and store the result\n",
    "        boolean isPrime = isPrime(number);\n",
    "        \n",
    "        // Print the result\n",
    "        if (isPrime) {\n",
    "            System.out.println(number + \" is a prime number.\");\n",
    "        } else {\n",
    "            System.out.println(number + \" is not a prime number.\");\n",
    "        }\n",
    "        \n",
    "        // Close the scanner to avoid resource leaks\n",
    "        scanner.close();\n",
    "    }\n",
    "    \n",
    "    public static boolean isPrime(int num) {\n",
    "        // Handle edge cases for numbers less than or equal to 1\n",
    "        if (num <= 1) {\n",
    "            return false;\n",
    "        }\n",
    "        \n",
    "        // Check for factors from 2 to the square root of the number\n",
    "        for (int i = 2; i <= Math.sqrt(num); i++) {\n",
    "            if (num % i == 0) {\n",
    "                return false; // If a factor is found, the number is not prime\n",
    "            }\n",
    "        }\n",
    "        \n",
    "        return true; // If no factors are found, the number is prime\n",
    "    }\n",
    "}\n"
   ]
  },
  {
   "cell_type": "markdown",
   "metadata": {},
   "source": [
    "### Regular Java Complier(Linux) \n",
    "```sh\n",
    "nit@linux$: javac CheckPrime.java\n",
    "nit@linux$: java CheckPrime\n",
    "```"
   ]
  },
  {
   "cell_type": "code",
   "execution_count": 42,
   "metadata": {},
   "outputs": [],
   "source": [
    "!javac CheckPrime.java"
   ]
  },
  {
   "cell_type": "markdown",
   "metadata": {},
   "source": [
    "## Expected Input and Output\n",
    "**Input: 17**\n",
    "- Expected Output: 17 is a prime number.\n",
    "\n",
    "**Input: 20**\n",
    "\n",
    "- Expected Output: 20 is not a prime number.\n",
    "\n",
    "**Input: 1**\n",
    "\n",
    "- Expected Output: 1 is not a prime number.\n",
    "\n",
    "**Input: 0**\n",
    "\n",
    "- Expected Output: 0 is not a prime number.\n",
    "\n",
    "**Input: -5**\n",
    "\n",
    "- Expected Output: -5 is not a prime number. \n",
    "\n",
    "**Input: -2**\n",
    "\n",
    "- Expected Output: -2 is not a prime number. \n",
    "\n"
   ]
  }
 ],
 "metadata": {
  "kaggle": {
   "accelerator": "none",
   "dataSources": [],
   "dockerImageVersionId": 30664,
   "isGpuEnabled": false,
   "isInternetEnabled": false,
   "language": "python",
   "sourceType": "notebook"
  },
  "kernelspec": {
   "display_name": "Python 3 (ipykernel)",
   "language": "python",
   "name": "python3"
  },
  "language_info": {
   "codemirror_mode": {
    "name": "ipython",
    "version": 3
   },
   "file_extension": ".py",
   "mimetype": "text/x-python",
   "name": "python",
   "nbconvert_exporter": "python",
   "pygments_lexer": "ipython3",
   "version": "3.11.2"
  }
 },
 "nbformat": 4,
 "nbformat_minor": 4
}
