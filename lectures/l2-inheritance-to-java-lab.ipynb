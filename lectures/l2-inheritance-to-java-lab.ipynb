{
 "cells": [
  {
   "cell_type": "markdown",
   "metadata": {},
   "source": [
    "![College Logo](../misc/college-logo-1024x245.png)"
   ]
  },
  {
   "cell_type": "markdown",
   "metadata": {},
   "source": [
    "<div class=\"alert alert-block alert-info\">\n",
    "    \n",
    "# iNTERACTIVE PLAYGROUND  NOTES ON JAVA LAB\n",
    "\n",
    "**By Jason Pandian**<br> *Assistant Professor, Department of Information Technology*\n",
    "\n",
    "</div>"
   ]
  },
  {
   "cell_type": "markdown",
   "metadata": {},
   "source": [
    "# **EXP2. Demonstrate various types of Inheritance in Java**\n",
    "\n",
    "## **1.Single Inheritance**\n",
    "\n",
    "## **AIM:**\n",
    "To demonstrate single inheritance where one class inherits from another.\n",
    "\n",
    "## **ALGORITHM**\n",
    "- Step-1.\tCreate a base class Animal with a method makeSound().\n",
    "- Step-2.\tCreate a derived class Dog that extends Animal and overrides the makeSound() method.\n",
    "- Step-3.\tCreate a Main class with a main() method to instantiate Dog and call makeSound()."
   ]
  },
  {
   "cell_type": "markdown",
   "metadata": {},
   "source": [
    "## **PROGRAM**\n",
    "\n",
    "#### **Animal.java**"
   ]
  },
  {
   "cell_type": "code",
   "execution_count": 52,
   "metadata": {},
   "outputs": [
    {
     "name": "stdout",
     "output_type": "stream",
     "text": [
      "Overwriting src/singleinheritance/Animal.java\n"
     ]
    }
   ],
   "source": [
    "%%writefile src/singleinheritance/Animal.java\n",
    "package singleinheritance;\n",
    "\n",
    "public class Animal {\n",
    "    public void makeSound() {\n",
    "        System.out.println(\"Animal makes a sound\");\n",
    "    }\n",
    "}\n"
   ]
  },
  {
   "cell_type": "markdown",
   "metadata": {},
   "source": [
    "#### **Dog.java**"
   ]
  },
  {
   "cell_type": "code",
   "execution_count": 53,
   "metadata": {},
   "outputs": [
    {
     "name": "stdout",
     "output_type": "stream",
     "text": [
      "Overwriting src/singleinheritance/Dog.java\n"
     ]
    }
   ],
   "source": [
    "%%writefile src/singleinheritance/Dog.java\n",
    "package singleinheritance;\n",
    "\n",
    "public class Dog extends Animal {\n",
    "    @Override\n",
    "    public void makeSound() {\n",
    "        System.out.println(\"Dog barks\");\n",
    "    }\n",
    "}\n"
   ]
  },
  {
   "cell_type": "markdown",
   "metadata": {},
   "source": [
    "#### **SingleInheritanceMain**"
   ]
  },
  {
   "cell_type": "code",
   "execution_count": 54,
   "metadata": {},
   "outputs": [
    {
     "name": "stdout",
     "output_type": "stream",
     "text": [
      "Overwriting src/singleinheritance/SingleInheritanceMain.java\n"
     ]
    }
   ],
   "source": [
    "%%writefile src/singleinheritance/SingleInheritanceMain.java\n",
    "package singleinheritance;\n",
    "\n",
    "public class SingleInheritanceMain {\n",
    "    public static void main(String[] args) {\n",
    "        Dog dog = new Dog();\n",
    "        dog.makeSound(); // Output: Dog barks\n",
    "    }\n",
    "}"
   ]
  },
  {
   "cell_type": "markdown",
   "metadata": {},
   "source": [
    "### **Expected Output**\n",
    "# **Dog barks**"
   ]
  },
  {
   "cell_type": "markdown",
   "metadata": {},
   "source": [
    "#### **Logical Organization**"
   ]
  },
  {
   "cell_type": "code",
   "execution_count": 55,
   "metadata": {},
   "outputs": [
    {
     "name": "stdout",
     "output_type": "stream",
     "text": [
      "\u001b[01;34m.\u001b[0m\n",
      "├── l1-introduction-to-java-lab.ipynb\n",
      "├── l2-inheritance-to-java-lab copy.ipynb\n",
      "└── \u001b[01;34msrc\u001b[0m\n",
      "    ├── CheckPrime.class\n",
      "    ├── CheckPrime.java\n",
      "    ├── SecondLargestNumber.class\n",
      "    ├── SecondLargestNumber.java\n",
      "    ├── \u001b[01;34mmultilevelinheritance\u001b[0m\n",
      "    │   ├── Animal.class\n",
      "    │   ├── Animal.java\n",
      "    │   ├── Dog.class\n",
      "    │   ├── Dog.java\n",
      "    │   ├── Mammal.class\n",
      "    │   ├── Mammal.java\n",
      "    │   ├── MultilevelInheritanceMain.class\n",
      "    │   └── MultilevelInheritanceMain.java\n",
      "    └── \u001b[01;34msingleinheritance\u001b[0m\n",
      "        ├── Animal.class\n",
      "        ├── Animal.java\n",
      "        ├── Dog.class\n",
      "        ├── Dog.java\n",
      "        ├── SingleInheritanceMain.class\n",
      "        └── SingleInheritanceMain.java\n",
      "\n",
      "4 directories, 20 files\n"
     ]
    }
   ],
   "source": [
    "!tree"
   ]
  },
  {
   "cell_type": "markdown",
   "metadata": {},
   "source": [
    "### **Regular Java Complier(Linux)** \n",
    "```sh\n",
    "nit@linux$: cd src\n",
    "nit@linux:~..../src$: javac singleinheritance/*.java\n",
    "nit@linux:~..../src$: java singleinheritance.SingleInheritanceMain\n",
    "```"
   ]
  },
  {
   "cell_type": "markdown",
   "metadata": {},
   "source": [
    "### **JUPYTER NOTEBOOK**"
   ]
  },
  {
   "cell_type": "code",
   "execution_count": 56,
   "metadata": {},
   "outputs": [
    {
     "name": "stdout",
     "output_type": "stream",
     "text": [
      "Dog barks\n"
     ]
    }
   ],
   "source": [
    "!javac  ../lectures/src/singleinheritance/*.java\n",
    "!java -cp ../lectures/src singleinheritance.SingleInheritanceMain"
   ]
  },
  {
   "cell_type": "markdown",
   "metadata": {},
   "source": [
    "## **2. Multilevel Inheritance**\n",
    "\n",
    "## **AIM:**\n",
    "To demonstrate multilevel inheritance where a class inherits from another class, which itself inherits from another class.\n",
    "\n",
    "## **ALGORITHM**\n",
    "- Step-1.\tCreate a base class Animal.\n",
    "- Step-2.\tCreate a subclass Mammal that extends Animal.\n",
    "- Step-3.\tCreate a subclass Dog that extends Mammal.\n",
    "- Step-4.   In the Main class, instantiate Dog and call its methods."
   ]
  },
  {
   "cell_type": "markdown",
   "metadata": {},
   "source": [
    "## **PROGRAM**\n",
    "\n",
    "#### **Animal.java**"
   ]
  },
  {
   "cell_type": "code",
   "execution_count": 57,
   "metadata": {},
   "outputs": [
    {
     "name": "stdout",
     "output_type": "stream",
     "text": [
      "Overwriting src/multilevelinheritance/Animal.java\n"
     ]
    }
   ],
   "source": [
    "%%writefile src/multilevelinheritance/Animal.java\n",
    "\n",
    "package multilevelinheritance;\n",
    "\n",
    "public class Animal {\n",
    "    public void makeSound() {\n",
    "        System.out.println(\"Animal makes a sound\");\n",
    "    }\n",
    "}\n"
   ]
  },
  {
   "cell_type": "markdown",
   "metadata": {},
   "source": [
    "#### **Mammal.java**"
   ]
  },
  {
   "cell_type": "code",
   "execution_count": 58,
   "metadata": {},
   "outputs": [
    {
     "name": "stdout",
     "output_type": "stream",
     "text": [
      "Overwriting src/multilevelinheritance/Mammal.java\n"
     ]
    }
   ],
   "source": [
    "%%writefile src/multilevelinheritance/Mammal.java\n",
    "\n",
    "package multilevelinheritance;\n",
    "\n",
    "public class Mammal extends Animal {\n",
    "    public void hasFur() {\n",
    "        System.out.println(\"Mammal has fur\");\n",
    "    }\n",
    "}\n"
   ]
  },
  {
   "cell_type": "markdown",
   "metadata": {},
   "source": [
    "#### **Dog.java**"
   ]
  },
  {
   "cell_type": "code",
   "execution_count": 59,
   "metadata": {},
   "outputs": [
    {
     "name": "stdout",
     "output_type": "stream",
     "text": [
      "Overwriting src/multilevelinheritance/Dog.java\n"
     ]
    }
   ],
   "source": [
    "%%writefile src/multilevelinheritance/Dog.java\n",
    "\n",
    "\n",
    "package multilevelinheritance;\n",
    "\n",
    "public class Dog extends Mammal {\n",
    "    @Override\n",
    "    public void makeSound() {\n",
    "        System.out.println(\"Dog barks\");\n",
    "    }\n",
    "}\n"
   ]
  },
  {
   "cell_type": "code",
   "execution_count": 60,
   "metadata": {},
   "outputs": [
    {
     "name": "stdout",
     "output_type": "stream",
     "text": [
      "Overwriting src/multilevelinheritance/MultilevelInheritanceMain.java\n"
     ]
    }
   ],
   "source": [
    "%%writefile src/multilevelinheritance/MultilevelInheritanceMain.java\n",
    "\n",
    "package multilevelinheritance;\n",
    "\n",
    "public class MultilevelInheritanceMain {\n",
    "    public static void main(String[] args) {\n",
    "        Dog dog = new Dog();\n",
    "        dog.makeSound(); // Output: Dog barks\n",
    "        dog.hasFur();    // Output: Mammal has fur\n",
    "    }\n",
    "}\n"
   ]
  },
  {
   "cell_type": "markdown",
   "metadata": {},
   "source": [
    "### **Expected Output**\n",
    "# **Dog barks**\n",
    "# **Mammal has fur**"
   ]
  },
  {
   "cell_type": "markdown",
   "metadata": {},
   "source": [
    "#### **Logical Organization**"
   ]
  },
  {
   "cell_type": "code",
   "execution_count": 50,
   "metadata": {},
   "outputs": [
    {
     "name": "stdout",
     "output_type": "stream",
     "text": [
      "\u001b[01;34m.\u001b[0m\n",
      "├── l1-introduction-to-java-lab.ipynb\n",
      "├── l2-inheritance-to-java-lab copy.ipynb\n",
      "└── \u001b[01;34msrc\u001b[0m\n",
      "    ├── CheckPrime.class\n",
      "    ├── CheckPrime.java\n",
      "    ├── SecondLargestNumber.class\n",
      "    ├── SecondLargestNumber.java\n",
      "    ├── \u001b[01;34mmultilevelinheritance\u001b[0m\n",
      "    │   ├── Animal.class\n",
      "    │   ├── Animal.java\n",
      "    │   ├── Dog.class\n",
      "    │   ├── Dog.java\n",
      "    │   ├── Mammal.class\n",
      "    │   ├── Mammal.java\n",
      "    │   ├── MultilevelInheritanceMain.class\n",
      "    │   └── MultilevelInheritanceMain.java\n",
      "    └── \u001b[01;34msingleinheritance\u001b[0m\n",
      "        ├── Animal.class\n",
      "        ├── Animal.java\n",
      "        ├── Dog.class\n",
      "        ├── Dog.java\n",
      "        ├── SingleInheritanceMain.class\n",
      "        └── SingleInheritanceMain.java\n",
      "\n",
      "4 directories, 20 files\n"
     ]
    }
   ],
   "source": [
    "!tree"
   ]
  },
  {
   "cell_type": "markdown",
   "metadata": {},
   "source": [
    "### **Regular Java Complier(Linux)** \n",
    "```sh\n",
    "nit@linux:~..../src$: javac multilevelinheritance/*.java\n",
    "nit@linux:~..../src$: java multilevelinheritance.MultilevelInheritanceMain\n",
    "```"
   ]
  },
  {
   "cell_type": "code",
   "execution_count": 51,
   "metadata": {},
   "outputs": [
    {
     "name": "stdout",
     "output_type": "stream",
     "text": [
      "Dog barks\n",
      "Mammal has fur\n"
     ]
    }
   ],
   "source": [
    "!javac  ../lectures/src/multilevelinheritance/*.java\n",
    "!java -cp ../lectures/src multilevelinheritance.MultilevelInheritanceMain"
   ]
  },
  {
   "cell_type": "markdown",
   "metadata": {},
   "source": [
    "## **3. Hierarchical Inheritance**\n",
    "\n",
    "## **AIM:**\n",
    "To demonstrate hierarchical inheritance where multiple classes inherit from a single base class.\n",
    "\n",
    "## **ALGORITHM**\n",
    "- Step-1.\tCreate a base class Animal.\n",
    "- Step-2.\tCreate multiple subclasses Dog and Cat that extend Animal.\n",
    "- Step-3.\tIn the Main class, instantiate Dog and Cat, and call their methods."
   ]
  },
  {
   "cell_type": "markdown",
   "metadata": {},
   "source": [
    "## **PROGRAM**\n",
    "\n",
    "#### **Animal.java**"
   ]
  },
  {
   "cell_type": "code",
   "execution_count": 66,
   "metadata": {},
   "outputs": [
    {
     "name": "stdout",
     "output_type": "stream",
     "text": [
      "Overwriting src/hierarchicalinheritance/Animal.java\n"
     ]
    }
   ],
   "source": [
    "%%writefile src/hierarchicalinheritance/Animal.java\n",
    "\n",
    "\n",
    "package hierarchicalinheritance;\n",
    "\n",
    "public class Animal {\n",
    "    public void makeSound() {\n",
    "        System.out.println(\"Animal makes a sound\");\n",
    "    }\n",
    "}\n"
   ]
  },
  {
   "cell_type": "markdown",
   "metadata": {},
   "source": [
    "#### **Dog.java**"
   ]
  },
  {
   "cell_type": "code",
   "execution_count": 67,
   "metadata": {},
   "outputs": [
    {
     "name": "stdout",
     "output_type": "stream",
     "text": [
      "Overwriting src/hierarchicalinheritance/Dog.java\n"
     ]
    }
   ],
   "source": [
    "%%writefile src/hierarchicalinheritance/Dog.java\n",
    "\n",
    "\n",
    "package hierarchicalinheritance;\n",
    "\n",
    "public class Dog extends Animal {\n",
    "    @Override\n",
    "    public void makeSound() {\n",
    "        System.out.println(\"Dog barks\");\n",
    "    }\n",
    "}\n"
   ]
  },
  {
   "cell_type": "markdown",
   "metadata": {},
   "source": [
    "#### **Cat.java**"
   ]
  },
  {
   "cell_type": "code",
   "execution_count": 68,
   "metadata": {},
   "outputs": [
    {
     "name": "stdout",
     "output_type": "stream",
     "text": [
      "Overwriting src/hierarchicalinheritance/Cat.java\n"
     ]
    }
   ],
   "source": [
    "%%writefile src/hierarchicalinheritance/Cat.java\n",
    "\n",
    "package hierarchicalinheritance;\n",
    "\n",
    "public class Cat extends Animal {\n",
    "    @Override\n",
    "    public void makeSound() {\n",
    "        System.out.println(\"Cat meows\");\n",
    "    }\n",
    "}\n"
   ]
  },
  {
   "cell_type": "markdown",
   "metadata": {},
   "source": [
    "#### **HierarchicalInheritanceMain.java**\n",
    "\n"
   ]
  },
  {
   "cell_type": "code",
   "execution_count": 69,
   "metadata": {},
   "outputs": [
    {
     "name": "stdout",
     "output_type": "stream",
     "text": [
      "Writing src/hierarchicalinheritance/HierarchicalInheritanceMain.java\n"
     ]
    }
   ],
   "source": [
    "%%writefile src/hierarchicalinheritance/HierarchicalInheritanceMain.java\n",
    "\n",
    "\n",
    "package hierarchicalinheritance;\n",
    "\n",
    "public class HierarchicalInheritanceMain {\n",
    "    public static void main(String[] args) {\n",
    "        Dog dog = new Dog();\n",
    "        dog.makeSound(); // Output: Dog barks\n",
    "\n",
    "        Cat cat = new Cat();\n",
    "        cat.makeSound(); // Output: Cat meows\n",
    "    }\n",
    "}\n"
   ]
  },
  {
   "cell_type": "markdown",
   "metadata": {},
   "source": [
    "### **Expected Output**\n",
    "# **Dog barks**\n",
    "# **Cat meows**"
   ]
  },
  {
   "cell_type": "markdown",
   "metadata": {},
   "source": [
    "#### **Logical Organization**"
   ]
  },
  {
   "cell_type": "code",
   "execution_count": 73,
   "metadata": {},
   "outputs": [
    {
     "name": "stdout",
     "output_type": "stream",
     "text": [
      "\u001b[01;34m.\u001b[0m\n",
      "├── l1-introduction-to-java-lab.ipynb\n",
      "├── l2-inheritance-to-java-lab copy.ipynb\n",
      "└── \u001b[01;34msrc\u001b[0m\n",
      "    ├── CheckPrime.class\n",
      "    ├── CheckPrime.java\n",
      "    ├── SecondLargestNumber.class\n",
      "    ├── SecondLargestNumber.java\n",
      "    ├── \u001b[01;34mhierarchicalinheritance\u001b[0m\n",
      "    │   ├── Animal.class\n",
      "    │   ├── Animal.java\n",
      "    │   ├── Cat.class\n",
      "    │   ├── Cat.java\n",
      "    │   ├── Dog.class\n",
      "    │   ├── Dog.java\n",
      "    │   ├── HierarchicalInheritanceMain.class\n",
      "    │   └── HierarchicalInheritanceMain.java\n",
      "    ├── \u001b[01;34mmultilevelinheritance\u001b[0m\n",
      "    │   ├── Animal.class\n",
      "    │   ├── Animal.java\n",
      "    │   ├── Dog.class\n",
      "    │   ├── Dog.java\n",
      "    │   ├── Mammal.class\n",
      "    │   ├── Mammal.java\n",
      "    │   ├── MultilevelInheritanceMain.class\n",
      "    │   └── MultilevelInheritanceMain.java\n",
      "    └── \u001b[01;34msingleinheritance\u001b[0m\n",
      "        ├── Animal.class\n",
      "        ├── Animal.java\n",
      "        ├── Dog.class\n",
      "        ├── Dog.java\n",
      "        ├── SingleInheritanceMain.class\n",
      "        └── SingleInheritanceMain.java\n",
      "\n",
      "5 directories, 28 files\n"
     ]
    }
   ],
   "source": [
    "!tree"
   ]
  },
  {
   "cell_type": "markdown",
   "metadata": {},
   "source": [
    "### **Regular Java Complier(Linux)** \n",
    "```sh\n",
    "nit@linux:~..../src$: javac hierarchicalinheritance/*.java\n",
    "nit@linux:~..../src$: java hierarchicalinheritance.HierarchicalInheritanceMain\n",
    "```"
   ]
  },
  {
   "cell_type": "code",
   "execution_count": 74,
   "metadata": {},
   "outputs": [
    {
     "name": "stdout",
     "output_type": "stream",
     "text": [
      "Dog barks\n",
      "Cat meows\n"
     ]
    }
   ],
   "source": [
    "!javac  ../lectures/src/hierarchicalinheritance/*.java\n",
    "!java -cp ../lectures/src hierarchicalinheritance.HierarchicalInheritanceMain"
   ]
  },
  {
   "cell_type": "markdown",
   "metadata": {},
   "source": [
    "## **4. Multiple Inheritance (via Interfaces)**\n",
    "\n",
    "## **AIM:**\n",
    "To demonstrate multiple inheritance using interfaces, where a class implements multiple interfaces.\n",
    "\n",
    "\n",
    "## **ALGORITHM**\n",
    "- Step-1.\tDefine two interfaces Flyable and Swimmable with methods fly() and swim().\n",
    "- Step-2.\tCreate a class Duck that implements both interfaces.\n",
    "- Step-3.\tIn the Main class, instantiate Duck and call its methods."
   ]
  },
  {
   "cell_type": "markdown",
   "metadata": {},
   "source": [
    "## **PROGRAM**\n",
    "\n",
    "#### **Flyable.java**"
   ]
  },
  {
   "cell_type": "code",
   "execution_count": 82,
   "metadata": {},
   "outputs": [
    {
     "name": "stdout",
     "output_type": "stream",
     "text": [
      "Overwriting src/multipleinheritance/Flyable.java\n"
     ]
    }
   ],
   "source": [
    "%%writefile src/multipleinheritance/Flyable.java\n",
    "\n",
    "package multipleinheritance;\n",
    "\n",
    "public interface Flyable {\n",
    "    void fly();\n",
    "}"
   ]
  },
  {
   "cell_type": "markdown",
   "metadata": {},
   "source": [
    "#### **Swimmable.java**"
   ]
  },
  {
   "cell_type": "code",
   "execution_count": 76,
   "metadata": {},
   "outputs": [
    {
     "name": "stdout",
     "output_type": "stream",
     "text": [
      "Writing src/multipleinheritance/Swimmable.java\n"
     ]
    }
   ],
   "source": [
    "%%writefile src/multipleinheritance/Swimmable.java\n",
    "\n",
    "package multipleinheritance;\n",
    "\n",
    "public interface Swimmable {\n",
    "    void swim();\n",
    "}\n"
   ]
  },
  {
   "cell_type": "markdown",
   "metadata": {},
   "source": [
    "#### **Duck.java**"
   ]
  },
  {
   "cell_type": "code",
   "execution_count": 79,
   "metadata": {},
   "outputs": [
    {
     "name": "stdout",
     "output_type": "stream",
     "text": [
      "Overwriting src/multipleinheritance/Duck.java\n"
     ]
    }
   ],
   "source": [
    "%%writefile src/multipleinheritance/Duck.java\n",
    "\n",
    "package multipleinheritance;\n",
    "\n",
    "public class Duck implements Flyable, Swimmable {\n",
    "    @Override\n",
    "    public void fly() {\n",
    "        System.out.println(\"Duck flies\");\n",
    "    }\n",
    "\n",
    "    @Override\n",
    "    public void swim() {\n",
    "        System.out.println(\"Duck swims\");\n",
    "    }\n",
    "}\n"
   ]
  },
  {
   "cell_type": "markdown",
   "metadata": {},
   "source": [
    "#### **MultipleInheritanceMain.java**"
   ]
  },
  {
   "cell_type": "code",
   "execution_count": 78,
   "metadata": {},
   "outputs": [
    {
     "name": "stdout",
     "output_type": "stream",
     "text": [
      "Writing src/multipleinheritance/MultipleInheritanceMain.java\n"
     ]
    }
   ],
   "source": [
    "%%writefile src/multipleinheritance/MultipleInheritanceMain.java\n",
    "\n",
    "\n",
    "package multipleinheritance;\n",
    "\n",
    "public class MultipleInheritanceMain {\n",
    "    public static void main(String[] args) {\n",
    "        Duck duck = new Duck();\n",
    "        duck.fly();  // Output: Duck flies\n",
    "        duck.swim(); // Output: Duck swims\n",
    "    }\n",
    "}\n"
   ]
  },
  {
   "cell_type": "markdown",
   "metadata": {},
   "source": [
    "### **Expected Output**\n",
    "# **Duck flies**\n",
    "# **Duck swims**"
   ]
  },
  {
   "cell_type": "markdown",
   "metadata": {},
   "source": [
    "#### **Logical Organization**"
   ]
  },
  {
   "cell_type": "code",
   "execution_count": 80,
   "metadata": {},
   "outputs": [
    {
     "name": "stdout",
     "output_type": "stream",
     "text": [
      "\u001b[01;34m.\u001b[0m\n",
      "├── l1-introduction-to-java-lab.ipynb\n",
      "├── l2-inheritance-to-java-lab copy.ipynb\n",
      "└── \u001b[01;34msrc\u001b[0m\n",
      "    ├── CheckPrime.class\n",
      "    ├── CheckPrime.java\n",
      "    ├── SecondLargestNumber.class\n",
      "    ├── SecondLargestNumber.java\n",
      "    ├── \u001b[01;34mhierarchicalinheritance\u001b[0m\n",
      "    │   ├── Animal.class\n",
      "    │   ├── Animal.java\n",
      "    │   ├── Cat.class\n",
      "    │   ├── Cat.java\n",
      "    │   ├── Dog.class\n",
      "    │   ├── Dog.java\n",
      "    │   ├── HierarchicalInheritanceMain.class\n",
      "    │   └── HierarchicalInheritanceMain.java\n",
      "    ├── \u001b[01;34mmultilevelinheritance\u001b[0m\n",
      "    │   ├── Animal.class\n",
      "    │   ├── Animal.java\n",
      "    │   ├── Dog.class\n",
      "    │   ├── Dog.java\n",
      "    │   ├── Mammal.class\n",
      "    │   ├── Mammal.java\n",
      "    │   ├── MultilevelInheritanceMain.class\n",
      "    │   └── MultilevelInheritanceMain.java\n",
      "    ├── \u001b[01;34mmultipleinheritance\u001b[0m\n",
      "    │   ├── Duck.java\n",
      "    │   ├── Flyable.java\n",
      "    │   ├── MultipleInheritanceMain.java\n",
      "    │   └── Swimmable.java\n",
      "    └── \u001b[01;34msingleinheritance\u001b[0m\n",
      "        ├── Animal.class\n",
      "        ├── Animal.java\n",
      "        ├── Dog.class\n",
      "        ├── Dog.java\n",
      "        ├── SingleInheritanceMain.class\n",
      "        └── SingleInheritanceMain.java\n",
      "\n",
      "6 directories, 32 files\n"
     ]
    }
   ],
   "source": [
    "!tree"
   ]
  },
  {
   "cell_type": "markdown",
   "metadata": {},
   "source": [
    "### **Regular Java Complier(Linux)** \n",
    "```sh\n",
    "nit@linux:~..../src$: javac multipleinheritance/*.java\n",
    "nit@linux:~..../src$: java multipleinheritance.MultipleInheritanceMain\n",
    "```"
   ]
  },
  {
   "cell_type": "code",
   "execution_count": 81,
   "metadata": {},
   "outputs": [
    {
     "name": "stdout",
     "output_type": "stream",
     "text": [
      "Duck flies\n",
      "Duck swims\n"
     ]
    }
   ],
   "source": [
    "!javac  ../lectures/src/multipleinheritance/*.java\n",
    "!java -cp ../lectures/src multipleinheritance.MultipleInheritanceMain"
   ]
  },
  {
   "cell_type": "markdown",
   "metadata": {},
   "source": [
    "# ***🎉 Congratulations on Completing Your Java ☕ Inheritance Lab! ***\n"
   ]
  }
 ],
 "metadata": {
  "kaggle": {
   "accelerator": "none",
   "dataSources": [],
   "dockerImageVersionId": 30664,
   "isGpuEnabled": false,
   "isInternetEnabled": false,
   "language": "python",
   "sourceType": "notebook"
  },
  "kernelspec": {
   "display_name": "Python 3 (ipykernel)",
   "language": "python",
   "name": "python3"
  },
  "language_info": {
   "codemirror_mode": {
    "name": "ipython",
    "version": 3
   },
   "file_extension": ".py",
   "mimetype": "text/x-python",
   "name": "python",
   "nbconvert_exporter": "python",
   "pygments_lexer": "ipython3",
   "version": "3.11.2"
  }
 },
 "nbformat": 4,
 "nbformat_minor": 4
}
